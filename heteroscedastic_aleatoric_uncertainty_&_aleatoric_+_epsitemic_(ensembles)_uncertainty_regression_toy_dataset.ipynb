{
  "nbformat": 4,
  "nbformat_minor": 0,
  "metadata": {
    "colab": {
      "name": "heteroscedastic aleatoric uncertainty & aleatoric + epsitemic (ensembles) uncertainty - regression - toy dataset",
      "provenance": []
    },
    "kernelspec": {
      "name": "python3",
      "display_name": "Python 3"
    },
    "language_info": {
      "name": "python"
    }
  },
  "cells": [
    {
      "cell_type": "markdown",
      "source": [
        "# About this Notebook\n",
        "\n",
        "Implementation of \n",
        "- **Heteroscedastic Aleatoric Uncertainty** as described in the paper [What Uncertainties Do We Need in Bayesian Deep Learning for Computer Vision?](https://arxiv.org/abs/1703.04977). \n",
        "- **Epistemic Uncertainty** using deep ensembles from [Simple and Scalable Predictive Uncertainty Estimation using Deep Ensembles](https://arxiv.org/abs/1612.01474)\n",
        "- **Combined Aleatoric and Epistemic uncertainty** using the approach described in [What Uncertainties Do We Need in Bayesian Deep Learning for Computer Vision?](https://arxiv.org/abs/1703.04977), but with ensembles for epistemic uncertainty (and obviously not \"in one model\" because I use ensembles)\n",
        "\n",
        "\n",
        "Parts of this notebook is based on [ marcobellagente93 /\n",
        "Bayesian_Regression ](https://github.com/marcobellagente93/Bayesian_Regression/blob/main/Bayesian_regression_notebooks/noisy_sin_example.ipynb) (esp. dataset and plots)"
      ],
      "metadata": {
        "id": "PaUm-2BXI5no"
      }
    },
    {
      "cell_type": "code",
      "execution_count": null,
      "metadata": {
        "id": "W-KYhh2AFBE9"
      },
      "outputs": [],
      "source": [
        "import torch\n",
        "import torch.nn as nn\n",
        "import torch.nn.functional as F\n",
        "\n",
        "import numpy as np\n",
        "\n",
        "import matplotlib.pyplot as plt"
      ]
    },
    {
      "cell_type": "markdown",
      "source": [
        "# Prepare dataset\n",
        "\n",
        " As an example we consider $y = sin(x)$, with $x \\sim **bold text**\\mathcal{N}_{0, 0.5}$ and noisy $y$"
      ],
      "metadata": {
        "id": "snzrXpq0FTY5"
      }
    },
    {
      "cell_type": "code",
      "source": [
        "# 1:1 from the original notebook\n",
        "\n",
        "n_points = 50\n",
        "\n",
        "x = 2*np.pi * np.random.normal(0, 0.5, n_points)\n",
        "x.sort()\n",
        "x = x.reshape(n_points, 1)\n",
        "y = np.sin(x) + np.random.normal(-0.3, 0.3, x.shape)\n",
        "\n",
        "# Plot to visualise target function\n",
        "plt.scatter(x,y)\n",
        "\n",
        "# Convert to tensor for model training\n",
        "data = torch.Tensor(np.concatenate((x,y),-1))"
      ],
      "metadata": {
        "colab": {
          "base_uri": "https://localhost:8080/",
          "height": 265
        },
        "id": "iggGLeYRF0lz",
        "outputId": "2e82606e-05c1-468f-8ea7-d23fca5b7d62"
      },
      "execution_count": null,
      "outputs": [
        {
          "output_type": "display_data",
          "data": {
            "image/png": "[encoded data removed]",
            "text/plain": [
              "<Figure size 432x288 with 1 Axes>"
            ]
          },
          "metadata": {
            "needs_background": "light"
          }
        }
      ]
    },
    {
      "cell_type": "markdown",
      "source": [
        "# Model\n",
        "Create a minimalistic model"
      ],
      "metadata": {
        "id": "2DfL8_l3GFDt"
      }
    },
    {
      "cell_type": "code",
      "source": [
        "class Regressor(nn.Module):\n",
        "  def __init__(self, hidden_dim=5):\n",
        "    super().__init__()\n",
        "    self.fc1 = nn.Linear(1,hidden_dim)\n",
        "\n",
        "    # optionally add another fc layer, this is not required and more like a hyperparameter for tuning\n",
        "    # self.fc2 = nn.Linear(hidden_dim,hidden_dim)\n",
        "    self.fc2 = nn.Identity()\n",
        "\n",
        "    self.fc3 = nn.Linear(hidden_dim,2)\n",
        "\n",
        "  def forward(self, x):\n",
        "    x = F.relu(self.fc1(x))\n",
        "    # optinally add dropout. This is not required and only a hyperparameter for tuning\n",
        "    # x = F.dropout(x)\n",
        "    x = F.relu(self.fc2(x))\n",
        "    return self.fc3(x)"
      ],
      "metadata": {
        "id": "r5Qh2GsaF4al"
      },
      "execution_count": null,
      "outputs": []
    },
    {
      "cell_type": "markdown",
      "source": [
        "Weight decay is required as the paper says:  \n",
        "\n",
        "> it can be learned as a function of the data: [...] **with  added  weight  decay**  parameterised  by λ\u0015 (and  similarly  for l1 loss).\n",
        "\n",
        "**Hint**: Increasing `hidden_dim` to 250 allows the net to pick up the underlying function better. Both values provide usefull and interesting results.\n"
      ],
      "metadata": {
        "id": "BI1irnauOkxO"
      }
    },
    {
      "cell_type": "code",
      "source": [
        "hidden_dim = 25\n",
        "lr = 1e-4\n",
        "wd = 1e-4\n",
        "\n",
        "model = Regressor(hidden_dim=hidden_dim)\n",
        "optimizer = torch.optim.Adam(model.parameters(), lr = lr, weight_decay=wd)\n",
        "model.train()\n",
        "\n",
        "print(model)"
      ],
      "metadata": {
        "colab": {
          "base_uri": "https://localhost:8080/"
        },
        "id": "7uXPLf50HSK0",
        "outputId": "428e8de1-dcf0-4102-e712-86224d9f79e2"
      },
      "execution_count": null,
      "outputs": [
        {
          "output_type": "stream",
          "name": "stdout",
          "text": [
            "Regressor(\n",
            "  (fc1): Linear(in_features=1, out_features=25, bias=True)\n",
            "  (fc2): Identity()\n",
            "  (fc3): Linear(in_features=25, out_features=2, bias=True)\n",
            ")\n"
          ]
        }
      ]
    },
    {
      "cell_type": "markdown",
      "source": [
        "# train\n",
        "Train the model with NLL loss as required by the paper to capture heteroscedastic aleatoric uncertainty."
      ],
      "metadata": {
        "id": "MZ48uKB7Iljn"
      }
    },
    {
      "cell_type": "code",
      "source": [
        "def train(train_model, train_optim, log_interval = 1000):\n",
        "  for epoch in range(20000):\n",
        "    target = data[:,1]\n",
        "    \n",
        "    pred = train_model(data[:,0].view(-1,1))\n",
        "    mu_pred = pred[:,0]\n",
        "    std_pred = pred[:,1]\n",
        "\n",
        "    # Loss function requires variance, but i want to learn standard deviation, so i square it :)\n",
        "    nll = torch.nn.GaussianNLLLoss(reduction='mean')(mu_pred, target, std_pred**2)\n",
        "\n",
        "    nll.backward()\n",
        "    train_optim.step()\n",
        "    train_optim.zero_grad()\n",
        "\n",
        "    if (epoch+1) % log_interval == 0:\n",
        "      print('%.3i \\t\\t%.6f \\t %.2e' % (epoch+1,\n",
        "                                      nll.item(),\n",
        "                                      train_optim.param_groups[0]['lr']), \n",
        "                                      flush=True)"
      ],
      "metadata": {
        "id": "8oVUBt5eIOJO"
      },
      "execution_count": null,
      "outputs": []
    },
    {
      "cell_type": "code",
      "source": [
        "train(model, optimizer)"
      ],
      "metadata": {
        "colab": {
          "base_uri": "https://localhost:8080/"
        },
        "id": "5RlDlftK_Frl",
        "outputId": "aa459d6e-78ae-495b-e873-c916d72047d8"
      },
      "execution_count": null,
      "outputs": [
        {
          "output_type": "stream",
          "name": "stdout",
          "text": [
            "1000 \t\t12.742968 \t 1.00e-04\n",
            "2000 \t\t6.068547 \t 1.00e-04\n",
            "3000 \t\t3.750786 \t 1.00e-04\n",
            "4000 \t\t2.254661 \t 1.00e-04\n",
            "5000 \t\t1.278135 \t 1.00e-04\n",
            "6000 \t\t0.601324 \t 1.00e-04\n",
            "7000 \t\t0.061576 \t 1.00e-04\n",
            "8000 \t\t-0.317006 \t 1.00e-04\n",
            "9000 \t\t-0.462799 \t 1.00e-04\n",
            "10000 \t\t-0.551170 \t 1.00e-04\n",
            "11000 \t\t-0.603879 \t 1.00e-04\n",
            "12000 \t\t-0.638334 \t 1.00e-04\n",
            "13000 \t\t-0.665497 \t 1.00e-04\n",
            "14000 \t\t-0.684083 \t 1.00e-04\n",
            "15000 \t\t-0.709124 \t 1.00e-04\n",
            "16000 \t\t-0.727970 \t 1.00e-04\n",
            "17000 \t\t-0.742038 \t 1.00e-04\n",
            "18000 \t\t-0.752639 \t 1.00e-04\n",
            "19000 \t\t-0.759553 \t 1.00e-04\n",
            "20000 \t\t-0.771680 \t 1.00e-04\n"
          ]
        }
      ]
    },
    {
      "cell_type": "markdown",
      "source": [
        "Predict (incl std) and plot"
      ],
      "metadata": {
        "id": "dUwkjEWS_HQZ"
      }
    },
    {
      "cell_type": "code",
      "source": [
        "x2_tensor = torch.Tensor(x).view(-1)  # value range of generated datapoints\n",
        "#x2_tensor = torch.range(start=-10, end=10, step=.1)  # manual value range\n",
        "x2=x2_tensor.numpy()\n",
        "\n",
        "model.eval()\n",
        "pred = model(x2_tensor.view(-1,1)).detach().numpy()\n",
        "mu_pred = pred[:,0]\n",
        "std_pred=pred[:,1]\n",
        "\n",
        "plt.scatter(x, y, label='Training data')\n",
        "plt.plot(x2, mu_pred, color='C1', label='Predicted')\n",
        "plt.fill_between(x2, mu_pred - std_pred , mu_pred + std_pred, alpha=0.2, color='C3')\n",
        "plt.legend()"
      ],
      "metadata": {
        "colab": {
          "base_uri": "https://localhost:8080/",
          "height": 283
        },
        "id": "1Pk7ocGtJaT_",
        "outputId": "299f054b-4ae8-4023-a2c6-75dc0096d86a"
      },
      "execution_count": null,
      "outputs": [
        {
          "output_type": "execute_result",
          "data": {
            "text/plain": [
              "<matplotlib.legend.Legend at 0x7f7753885690>"
            ]
          },
          "metadata": {},
          "execution_count": 27
        },
        {
          "output_type": "display_data",
          "data": {
            "image/png": "[encoded data removed]",
            "text/plain": [
              "<Figure size 432x288 with 1 Axes>"
            ]
          },
          "metadata": {
            "needs_background": "light"
          }
        }
      ]
    },
    {
      "cell_type": "markdown",
      "source": [
        "# Combining Heteroscedastic Aleatoric Uncertainty and Epistemic Uncertainty\n",
        "I'm using ensembles, not the epistemic approach used in the paper"
      ],
      "metadata": {
        "id": "2UScgUzt4ZPF"
      }
    },
    {
      "cell_type": "code",
      "source": [
        "ensemble_size = 10\n",
        "\n",
        "models = []\n",
        "for i in range(ensemble_size):\n",
        "  print(f\"training model {i+1}/{ensemble_size}\")\n",
        "\n",
        "  ens_model = Regressor(hidden_dim=hidden_dim)\n",
        "  ens_optimizer = torch.optim.Adam(ens_model.parameters(), lr = lr, weight_decay=wd)\n",
        "  ens_model.train()\n",
        "  \n",
        "  train(ens_model, ens_optimizer, log_interval=5000)\n",
        "  models.append(ens_model)"
      ],
      "metadata": {
        "colab": {
          "base_uri": "https://localhost:8080/"
        },
        "id": "z097_8LqmBDH",
        "outputId": "6658b404-e9fd-4260-9a66-e48ad1fbf7b1"
      },
      "execution_count": null,
      "outputs": [
        {
          "output_type": "stream",
          "name": "stdout",
          "text": [
            "training model 1/10\n",
            "5000 \t\t-0.579241 \t 1.00e-04\n",
            "10000 \t\t-0.819606 \t 1.00e-04\n",
            "15000 \t\t-1.008720 \t 1.00e-04\n",
            "20000 \t\t-1.138141 \t 1.00e-04\n",
            "training model 2/10\n",
            "5000 \t\t-0.648380 \t 1.00e-04\n",
            "10000 \t\t-0.838462 \t 1.00e-04\n",
            "15000 \t\t-0.990838 \t 1.00e-04\n",
            "20000 \t\t-1.071318 \t 1.00e-04\n",
            "training model 3/10\n",
            "5000 \t\t-0.378163 \t 1.00e-04\n",
            "10000 \t\t-0.663400 \t 1.00e-04\n",
            "15000 \t\t-0.809201 \t 1.00e-04\n",
            "20000 \t\t-0.870320 \t 1.00e-04\n",
            "training model 4/10\n",
            "5000 \t\t-0.011094 \t 1.00e-04\n",
            "10000 \t\t-0.643650 \t 1.00e-04\n",
            "15000 \t\t-0.905213 \t 1.00e-04\n",
            "20000 \t\t-1.012955 \t 1.00e-04\n",
            "training model 5/10\n",
            "5000 \t\t-0.640872 \t 1.00e-04\n",
            "10000 \t\t-0.809400 \t 1.00e-04\n",
            "15000 \t\t-0.916409 \t 1.00e-04\n",
            "20000 \t\t-0.938440 \t 1.00e-04\n",
            "training model 6/10\n",
            "5000 \t\t-0.202817 \t 1.00e-04\n",
            "10000 \t\t-0.392302 \t 1.00e-04\n",
            "15000 \t\t-0.541720 \t 1.00e-04\n",
            "20000 \t\t-0.784747 \t 1.00e-04\n",
            "training model 7/10\n",
            "5000 \t\t-0.242390 \t 1.00e-04\n",
            "10000 \t\t-0.805342 \t 1.00e-04\n",
            "15000 \t\t-0.876743 \t 1.00e-04\n",
            "20000 \t\t-0.957186 \t 1.00e-04\n",
            "training model 8/10\n",
            "5000 \t\t-0.602764 \t 1.00e-04\n",
            "10000 \t\t-0.766738 \t 1.00e-04\n",
            "15000 \t\t-0.977682 \t 1.00e-04\n",
            "20000 \t\t-1.009821 \t 1.00e-04\n",
            "training model 9/10\n",
            "5000 \t\t0.026857 \t 1.00e-04\n",
            "10000 \t\t-0.509806 \t 1.00e-04\n",
            "15000 \t\t-0.758179 \t 1.00e-04\n",
            "20000 \t\t-0.844845 \t 1.00e-04\n",
            "training model 10/10\n",
            "5000 \t\t0.510170 \t 1.00e-04\n",
            "10000 \t\t-0.269044 \t 1.00e-04\n",
            "15000 \t\t-0.506845 \t 1.00e-04\n",
            "20000 \t\t-0.699758 \t 1.00e-04\n"
          ]
        }
      ]
    },
    {
      "cell_type": "markdown",
      "source": [
        "Calculate std for combined approach and plot (epistemic + aleatoric)"
      ],
      "metadata": {
        "id": "BQbrdkLK5TtA"
      }
    },
    {
      "cell_type": "code",
      "source": [
        "# generate predictions with each model of the ensemble\n",
        "mu_preds = []\n",
        "std_preds = []\n",
        "for i in range(len(models)):\n",
        "  cur_model = models[i]\n",
        "  cur_model.eval()\n",
        "  \n",
        "  pred = cur_model(x2_tensor.view(-1,1)).detach().numpy()\n",
        "  mu_preds.append(pred[:,0])\n",
        "  # To avoid negative std values and mimic the training behavior .abs() is required here\n",
        "  std_preds.append(abs(pred[:,1]))\n",
        "\n",
        "\n",
        "# calculate final mean/std\n",
        "mu_pred = np.empty(len(mu_preds[0]))\n",
        "std_pred = np.empty(len(mu_preds[0]))\n",
        "\n",
        "## reformat predictions to allow easier calculations (switching rows to columns)\n",
        "mu_preds = np.stack(mu_preds).transpose(1,0)\n",
        "std_preds = np.stack(std_preds).transpose(1,0)\n",
        "\n",
        "## do std/var calculation according to paper\n",
        "## do mean calculation by taking mean of the predictions\n",
        "for i in range(len(mu_pred)):\n",
        "  mu_pred[i] = np.mean(mu_preds[i])\n",
        "\n",
        "  var = np.mean(mu_preds[i]**2)-np.mean(mu_preds[i])**2+np.mean(std_preds[i]**2)\n",
        "  std_pred[i] = var ** 0.5\n",
        "\n",
        "\n",
        "# plot\n",
        "plt.scatter(x, y, label='Training data')\n",
        "plt.plot(x2, mu_pred, color='C1', label='Predicted')\n",
        "plt.fill_between(x2, mu_pred - std_pred , mu_pred + std_pred, alpha=0.2, color='C3')\n",
        "plt.legend()\n",
        "plt.ylim([-3,3])"
      ],
      "metadata": {
        "colab": {
          "base_uri": "https://localhost:8080/",
          "height": 287
        },
        "id": "11RJXMIq5ELV",
        "outputId": "c05c7d1c-cf3b-4427-aa71-a17916c08136"
      },
      "execution_count": null,
      "outputs": [
        {
          "output_type": "execute_result",
          "data": {
            "text/plain": [
              "(-3.0, 3.0)"
            ]
          },
          "metadata": {},
          "execution_count": 29
        },
        {
          "output_type": "display_data",
          "data": {
            "image/png": "[encoded data removed]",
            "text/plain": [
              "<Figure size 432x288 with 1 Axes>"
            ]
          },
          "metadata": {
            "needs_background": "light"
          }
        }
      ]
    },
    {
      "cell_type": "markdown",
      "source": [
        "Using the same ensemble and only plot the **epistemic uncertainty**"
      ],
      "metadata": {
        "id": "lm4D7MHAA594"
      }
    },
    {
      "cell_type": "code",
      "source": [
        "# calculate final mean/std\n",
        "mu_pred = np.empty(len(x))\n",
        "std_pred = np.empty(len(x))\n",
        "\n",
        "## do std/var calculation according to paper\n",
        "## do mean calculation by taking mean of the predictions\n",
        "for i in range(len(mu_pred)):\n",
        "  mu_pred[i] = np.mean(mu_preds[i])\n",
        "  std_pred[i] = np.std(mu_preds[i])\n",
        "\n",
        "\n",
        "# plot\n",
        "x2=x2_tensor.numpy()\n",
        "plt.scatter(x, y, label='Training data')\n",
        "plt.plot(x2, mu_pred, color='C1', label='Predicted')\n",
        "plt.fill_between(x2, mu_pred - std_pred , mu_pred + std_pred, alpha=0.2, color='C3')\n",
        "plt.legend()\n",
        "plt.ylim([-3,3])"
      ],
      "metadata": {
        "colab": {
          "base_uri": "https://localhost:8080/",
          "height": 287
        },
        "id": "1g-_qqZBBBd0",
        "outputId": "7889d411-7f92-491a-9ef3-8746f489ad5a"
      },
      "execution_count": null,
      "outputs": [
        {
          "output_type": "execute_result",
          "data": {
            "text/plain": [
              "(-3.0, 3.0)"
            ]
          },
          "metadata": {},
          "execution_count": 30
        },
        {
          "output_type": "display_data",
          "data": {
            "image/png": "[encoded data removed]",
            "text/plain": [
              "<Figure size 432x288 with 1 Axes>"
            ]
          },
          "metadata": {
            "needs_background": "light"
          }
        }
      ]
    },
    {
      "cell_type": "markdown",
      "source": [
        "# End of Notebook / Playground\n",
        "Everything below is not relevant anymore. There might only be some code for additional plots or testing stuff, etc. "
      ],
      "metadata": {
        "id": "bHIzz5UIECKM"
      }
    },
    {
      "cell_type": "code",
      "source": [
        "# just plotting another variant of the heteroscedastic aleatoric variant\n",
        "# ignore code here, it's just quick copy & pasta, only the plot is of interest\n",
        "\n",
        "model = Regressor(hidden_dim=hidden_dim)\n",
        "optimizer = torch.optim.Adam(model.parameters(), lr = lr, weight_decay=wd)\n",
        "model.train()\n",
        "\n",
        "train(model, optimizer)\n",
        "\n",
        "model.eval()\n",
        "pred = model(x2_tensor.view(-1,1)).detach().numpy()\n",
        "mu_pred = pred[:,0]\n",
        "std_pred=pred[:,1]\n",
        "\n",
        "plt.scatter(x, y, label='Training data')\n",
        "plt.plot(x2, mu_pred, color='C1', label='Predicted')\n",
        "plt.fill_between(x2, mu_pred - std_pred , mu_pred + std_pred, alpha=0.2, color='C3')\n",
        "plt.legend()"
      ],
      "metadata": {
        "colab": {
          "base_uri": "https://localhost:8080/",
          "height": 640
        },
        "id": "kPDO0WLY_yEu",
        "outputId": "ee2d4d76-d0c1-4a19-f855-795913b746ac"
      },
      "execution_count": null,
      "outputs": [
        {
          "output_type": "stream",
          "name": "stdout",
          "text": [
            "1000 \t\t14.317835 \t 1.00e-04\n",
            "2000 \t\t0.977409 \t 1.00e-04\n",
            "3000 \t\t0.148420 \t 1.00e-04\n",
            "4000 \t\t-0.132658 \t 1.00e-04\n",
            "5000 \t\t-0.280357 \t 1.00e-04\n",
            "6000 \t\t-0.396307 \t 1.00e-04\n",
            "7000 \t\t-0.489838 \t 1.00e-04\n",
            "8000 \t\t-0.572982 \t 1.00e-04\n",
            "9000 \t\t-0.613308 \t 1.00e-04\n",
            "10000 \t\t-0.635032 \t 1.00e-04\n",
            "11000 \t\t-0.651168 \t 1.00e-04\n",
            "12000 \t\t-0.667040 \t 1.00e-04\n",
            "13000 \t\t-0.684925 \t 1.00e-04\n",
            "14000 \t\t-0.703574 \t 1.00e-04\n",
            "15000 \t\t-0.723241 \t 1.00e-04\n",
            "16000 \t\t-0.745132 \t 1.00e-04\n",
            "17000 \t\t-0.807596 \t 1.00e-04\n",
            "18000 \t\t-0.815089 \t 1.00e-04\n",
            "19000 \t\t-0.825172 \t 1.00e-04\n",
            "20000 \t\t-0.839025 \t 1.00e-04\n"
          ]
        },
        {
          "output_type": "execute_result",
          "data": {
            "text/plain": [
              "<matplotlib.legend.Legend at 0x7f76499c48d0>"
            ]
          },
          "metadata": {},
          "execution_count": 31
        },
        {
          "output_type": "display_data",
          "data": {
            "image/png": "[encoded data removed]",
            "text/plain": [
              "<Figure size 432x288 with 1 Axes>"
            ]
          },
          "metadata": {
            "needs_background": "light"
          }
        }
      ]
    },
    {
      "cell_type": "code",
      "source": [
        "y"
      ],
      "metadata": {
        "id": "ArORDzhBAOkp",
        "colab": {
          "base_uri": "https://localhost:8080/"
        },
        "outputId": "3d66b0fa-b5f7-4518-b86f-5e8b2808757a"
      },
      "execution_count": null,
      "outputs": [
        {
          "output_type": "execute_result",
          "data": {
            "text/plain": [
              "array([[-0.9697556 ],\n",
              "       [ 0.170082  ],\n",
              "       [-0.03316577],\n",
              "       [-0.86360984],\n",
              "       [-0.72919853],\n",
              "       [-0.43884165],\n",
              "       [-0.69004924],\n",
              "       [-0.9720638 ],\n",
              "       [-1.34985018],\n",
              "       [-0.69341067],\n",
              "       [-1.46039371],\n",
              "       [-1.02615549],\n",
              "       [-0.90018767],\n",
              "       [-0.96954601],\n",
              "       [-1.18003729],\n",
              "       [-1.5407425 ],\n",
              "       [-1.088512  ],\n",
              "       [-0.75417138],\n",
              "       [-1.06236482],\n",
              "       [-1.17886902],\n",
              "       [-0.77831015],\n",
              "       [-0.81846036],\n",
              "       [-0.60545833],\n",
              "       [-0.03060882],\n",
              "       [ 0.11539992],\n",
              "       [ 0.35458157],\n",
              "       [ 0.31219554],\n",
              "       [ 0.59751082],\n",
              "       [ 0.78182994],\n",
              "       [ 0.65874944],\n",
              "       [ 0.54927625],\n",
              "       [ 0.50820014],\n",
              "       [ 0.90841181],\n",
              "       [ 0.58647167],\n",
              "       [ 0.92737703],\n",
              "       [ 1.42093537],\n",
              "       [ 0.74620022],\n",
              "       [ 0.30047689],\n",
              "       [-0.42961458],\n",
              "       [-0.35695617],\n",
              "       [-0.29142044],\n",
              "       [ 0.14479839],\n",
              "       [ 0.45846909],\n",
              "       [-0.91665724],\n",
              "       [-1.06273017],\n",
              "       [-1.34616967],\n",
              "       [-1.8450947 ],\n",
              "       [-0.70100219],\n",
              "       [-0.65729718],\n",
              "       [ 0.3009905 ]])"
            ]
          },
          "metadata": {},
          "execution_count": 32
        }
      ]
    },
    {
      "cell_type": "code",
      "source": [
        ""
      ],
      "metadata": {
        "id": "VKEYltKuJWFP"
      },
      "execution_count": null,
      "outputs": []
    }
  ]
}